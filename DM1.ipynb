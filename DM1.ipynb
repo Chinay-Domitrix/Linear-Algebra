{
 "cells": [
  {
   "cell_type": "markdown",
   "id": "35d0dfc3",
   "metadata": {},
   "source": [
    "Welcome to Jurassic Pa--\n",
    "\n",
    "$\\textit{checks notes}$\n",
    "\n",
    "Ahem. Welcome to Discrete Mathematics!\n",
    "\n",
    "I'm sorry...was that a $\\textit{cringe}$ as the kid's would say? Too young for Jurrasic Park jokes? I don't care.\n",
    "\n",
    "Classes in this subject normally start with $\\textbf{propositional logic}$ and $\\textbf{truth tables}$. I feel this misses the point. We're going to kind of start with that, but we're looking to introduce something more basic first. Let's talk about $\\textbf{sets}$ for a second. You don't need to take notes just yet. Let's just take a quick little walk.\n",
    "\n",
    "...And by little walk I mean a run. We're going to blur past somethings. Ready? Not? Oh well...\n",
    "\n",
    "A $\\textbf{set}$ is just a container of stuff without duplicates. For example:\n",
    "\n",
    "$$A=\\{\\text{dog},\\text{cat},\\text{panda}\\}$$\n",
    "\n",
    "$A$ is just a set of animals.\n",
    "\n",
    "$$B=\\{0,1,2,3,5,8,13,21,34,\\ldots\\}$$\n",
    "\n",
    "$B$ is the famous Fibonacci sequence in set form. Notice that $1$ only appears once in $B$, but the actual sequence has it twice:\n",
    "\n",
    "$$0,1,1,2,3,5,8,13,21,34,55,89,144,\\ldots $$\n",
    "\n",
    "The \"$\\ldots$\" implies the numbers continue for a while. Written a better way we could use a $\\textbf{function}$, here shown as $F_{n}$, to write:\n",
    "\n",
    "$$ B = \\{\\color{blue}{F_{n}\\in \\mathbb{N}}\\color{black}{}:\\color{red}{n\\in \\mathbb{N}}\\color{black}{}\\text{ and }\\color{green}{F_{0}=0}\\color{black}{}\\text{ and }\\color{magenta}{F_{1}=1}\\color{black}{}\\text{ and }\\color{goldenrod}{F_{n+2}=F_{n}+F_{n+1}}\\color{black}{}\\}$$\n",
    "\n",
    "If you're reading this you're likely not to the point where reading that feels comfortable, but that is definitely an equivalent way to write $B$. Importantly it's more exact. For the original way we wrote $B$, we don't actually know what is beyond $34$ in the sequence. We could guess, but we might be wrong. The second way of writing $B$ is more precise. It will always contain what we want; no more, no less. Notice I didn't say \"better\". Sometimes it may be more appropriate to use the simpler version, but let's break down the more intricate version for a second. Don't worry, this is low stress, even if we're moving quickly.\n",
    "\n",
    "$\\bullet\\hphantom{ab}\\color{blue}{F_{n}\\in \\mathbb{N}}\\color{black}{}$ means that $F_{n}$ is a member of the $\\textbf{set}$ of natural numbers $\\mathbb{N}=\\{0,1,2,3,4,5,6,7,\\ldots\\}$. The symbol \"$\\in$\" just means \"is in\" or \"is a memeber of\", so it implies the thing is in a set.\n",
    "\n",
    "Since it comes before the \":\" we are building $B$ from these numbers. They are the actual things in the set. Notice that if the two different ways I wrote $B$ are equivalent then $F_{n}$ should be a list of numbers $0,1,2,3,5,8,13,\\ldots$ etc.\n",
    "\n",
    "After the \":\" come the constraints. The colon can be read as \"such that\".\n",
    "\n",
    "$\\bullet\\hphantom{ab}\\color{red}{n\\in \\mathbb{N}}\\color{black}{}$ means we're taking $n$ as a member of the natural numbers as well.\n",
    "\n",
    "$\\bullet\\hphantom{ab}\\color{green}{F_{0}=0}\\color{black}{}\\text{ and }\\color{magenta}{F_{1}=1}\\color{black}{}$ are called $\\textbf{base cases}$ and taken just as definitions within the seet.\n",
    "\n",
    "$\\bullet\\hphantom{ab}\\color{goldenrod}{F_{n+2}=F_{n}+F_{n+1}}\\color{black}{}$ defines what is called a $\\textbf{recursive formula}$ that explains how to build the set.\n",
    "\n",
    "All this you will come to know through this course, and you don't need to write this down right now. The way the formula works is:\n",
    "\n",
    "$$F_{0}=0$$\n",
    "$$F_{1}=1$$\n",
    "$$F_{2}=F_{0}+F_{1}=0+1=1$$\n",
    "$$F_{3}=F_{1}+F_{2}=1+1=2$$\n",
    "$$F_{4}=F_{2}+F_{3}=1+2=3$$\n",
    "$$F_{5}=F_{3}+F_{4}=2+3=5$$\n",
    "$$\\vdots\\hphantom{abcdefg}\\vdots$$\n",
    "\n",
    "You can see it with a little effort. Here's what our sets look like:"
   ]
  },
  {
   "cell_type": "code",
   "execution_count": null,
   "id": "f2c2b403",
   "metadata": {},
   "outputs": [],
   "source": [
    "import numpy as np"
   ]
  },
  {
   "cell_type": "code",
   "execution_count": null,
   "id": "4aa65b8e",
   "metadata": {},
   "outputs": [],
   "source": [
    "A = {'cat','dog','panda'}\n",
    "\n",
    "print('A=', A,'\\n')\n",
    "\n",
    "B = [0,1]\n",
    "\n",
    "for i in range(100):\n",
    "    B.append(B[-2]+B[-1])\n",
    "\n",
    "B = set(B)\n",
    "\n",
    "print('B=', B,'\\n')"
   ]
  },
  {
   "cell_type": "markdown",
   "id": "9a42158c",
   "metadata": {},
   "source": [
    "Ooof. $A$ has only three elements, but $B$ is quite larg--wait a second! $B$ should be infinitely big!!!!? That's right, it should be infinite. Unfortunately we don't have infinite time to write all the elements for you. The $B$ printed above is not the actual $B$, but a $\\textbf{subset}$ of the actual $B$, meaning it shares all of its elements with $B$ but doesn't contain all of it.  We couldn't print out all of $B$ even if we wanted to. Both the $\\textbf{finite}$ $B$ printed above and the $\\textbf{infinite}$ $B$ are subsets of $\\mathbb{N}$. This should give you an idea that sets can vary greatly in size. There are even different sizes of infinity...though secretly infinite $B$ and $\\mathbb{N}$ are the same size. Yes, I know infinite $B$ does not have numbers like $4$ while they are still in $\\mathbb{N}$, and yes, they are still the same size. Maybe one day you will see why. Yup, there's a lot of weird world to explore.\n",
    "\n",
    "Alright that was at least a meaningful attempt to introduce sets. There's a lot more to do, but we will save it all for later in the course. I also alluded to something else. Let's chat about $\\textbf{functions}$!\n",
    "\n",
    "Well...let me actually start with $\\textbf{relations}$ because functions are just a type of relation! There's no hidden meaning in the name. It's just a \"relationship\" between sets. Think of having two sets and wanting to look at both of them at the same time. Maybe we could compare them? Maybe we could change one into the other? There's a lot of things we could do.\n",
    "\n",
    "For now you can just think of $\\textbf{relations}$ as sets containing $\\textbf{tuples}$ between two other sets. Like if I define a set $C = \\{1,2\\}$ then all the possible tuples constructed between $A$ and $C$ would be:\n",
    "\n",
    "$$A\\times C=\\begin{Bmatrix}(\\text{dog},1),\\hphantom{a}(\\text{dog},2),\\\\\n",
    "(\\text{cat},1),\\hphantom{a}(\\text{cat},2),\\\\\n",
    "(\\text{panda},1),\\hphantom{a}(\\text{panda},2)\n",
    "\\end{Bmatrix}$$\n",
    "\n",
    "Here the \"$\\times$\" in the $A\\times C$ is called the $\\textbf{cartesian product}$."
   ]
  },
  {
   "cell_type": "code",
   "execution_count": null,
   "id": "aab4d534",
   "metadata": {},
   "outputs": [],
   "source": [
    "C = {1,2}\n",
    "AxC = set()\n",
    "\n",
    "print('C=', C,'\\n')\n",
    "\n",
    "for a in A:\n",
    "    for c in C:\n",
    "        AxC.add('('+a+', '+str(c)+')')\n",
    "\n",
    "print('AxC=', AxC,'\\n')"
   ]
  },
  {
   "cell_type": "markdown",
   "id": "ed97ecda",
   "metadata": {},
   "source": [
    "Again, not something we really need right now. Focus more on tuples rather than the cartesian product. We're just trying to make up for the fact that most courses on discrete math introduce things in the wrong order. ANYWAY... remember when we talked about $\\textbf{subsets}$? Relations between $A$ and $B$ are just subsets of this $\\textbf{cartesian product}$. Basically it's a bunch of tuples made up of two different sets.\n",
    "\n",
    "OKAY. FINALLY. Let's do $\\textbf{functions}$. What are functions? They're just a type of relation actually...\n",
    "\n",
    "$\\textit{crickets}$\n",
    "\n",
    "Don't believe me? Okay, let me explain. Think of your favorite function...maybe $f(x)=x^{2}$?\n",
    "\n",
    "\n",
    "Well that's not $\\textit{really}$ a function. The people who taught you calc and precalc lied to you!!!!! Where are the $\\textbf{sets}$!?!? How is this a $\\textbf{relation}$!?!?\n",
    "\n",
    "Okay, okay. The \"function\" you know of as $f(x)=x^{2}$ is actually written:\n",
    "\n",
    "$$f=x\\mapsto x^{2}:\\mathbb{R}\\rightarrow \\mathbb{R}$$\n",
    "\n",
    "The $\\textbf{relation}$ idea comes from it being a pair $(x,f(x))$ as an input from $\\mathbb{R}$ in the first part and an output from $\\mathbb{R}$ in the second part. Basically $f$ is a subset of $\\mathbb{R}\\times \\mathbb{R}$. It might be hard to think about, but try to imagine for each $x\\in \\mathbb{R}$ there is some element $f(x)\\in\\mathbb{R}$ such that $(x,f(x))=(x,x^{2})\\in \\mathbb{R}\\times\\mathbb{R}$. The other rule we need to keep track of is that every member of the first $\\mathbb{R}$ must be mapped, but we will dive into more detail about that and relations later in the course.\n",
    "\n",
    "Let me rewrite the function though for clarity, in a slightly different way:\n",
    "\n",
    "Let $f:\\mathbb{R}\\rightarrow\\mathbb{R}$ such at $f(x)=x^{2}$.\n",
    "\n",
    "This looks a lot more like what you're familiar with. The important bit is that the source and target sets are defined. The function itself can be read as: $f$ is the function that takes $x$ from $\\mathbb{R}$ and sends it to $x^{2}$ in $\\mathbb{R}$."
   ]
  },
  {
   "cell_type": "code",
   "execution_count": null,
   "id": "2e7277d6",
   "metadata": {},
   "outputs": [],
   "source": [
    "def f(x):\n",
    "    return x**2\n",
    "\n",
    "inputs = [-12.3,-3,-2.1,0,1,1.8,2.1,3,2.99999,10/2,9,13]\n",
    "\n",
    "outputs = list(map(f,inputs))\n",
    "\n",
    "print('Sample Inputs:\\n',set(inputs),'\\n')\n",
    "print('Number of elements:', len(inputs),'\\n')\n",
    "print('Sample Outputs:\\n',set(outputs),'\\n')\n",
    "print('Number of elements:', len(set(outputs)),'\\n')\n",
    "\n",
    "print('Relationship (x,f(x)):')\n",
    "for i in range(len(inputs)):\n",
    "    print('('+str(inputs[i])+','+str(outputs[i])+')')"
   ]
  },
  {
   "cell_type": "markdown",
   "id": "50c458b1",
   "metadata": {},
   "source": [
    "Notice that the size of the input set above is $12$ while the output size is just $10$. This is because $-2.1$ and $2.1$ both get $\\textbf{mapped}$ to the same output. The same with $-3$ and $3$. There are strict rules that define functions even within the world of relations. We won't get into that here, but it will come up later in the course. One thing you should know is that even though everything in $\\mathbb{R}$ is mapped to something else by $f$, not every member of $\\mathbb{R}$ is hit within the target set. For instance, $f(x)=-4$ can never happen even though $4\\in \\mathbb{R}$. From the source though, $f(4)=16$.\n",
    "\n",
    "Okay.\n",
    "\n",
    "$\\textit{claps hands}$\n",
    "\n",
    "This just seems like extra work, no? The old way should be adequate, right? $f(x)=x^{2}$ does all of what we said just fine!\n",
    "\n",
    "Sort of...what if I have a need to change up one of the sets?\n",
    "\n",
    "$$f=x\\mapsto x^{2}:\\mathbb{N}\\rightarrow \\mathbb{R}$$\n",
    "\n",
    "Alternatively:\n",
    "\n",
    "Let $f:\\mathbb{N}\\rightarrow\\mathbb{R}$ such that $f(x)=x^{2}$.\n",
    "\n",
    "Notice our relation is now built over $(x,x^{2})\\in \\mathbb{N}\\times \\mathbb{R}$:"
   ]
  },
  {
   "cell_type": "code",
   "execution_count": null,
   "id": "66a34157",
   "metadata": {},
   "outputs": [],
   "source": [
    "inputs = [0,1,2,4,5,6,7,8,9]\n",
    "\n",
    "outputs = list(map(f,inputs))\n",
    "\n",
    "print('Sample Inputs:\\n',set(inputs),'\\n')\n",
    "print('Number of elements:', len(inputs),'\\n')\n",
    "print('Sample Outputs:\\n',set(outputs),'\\n')\n",
    "print('Number of elements:', len(set(outputs)),'\\n')\n",
    "\n",
    "print('Relationship (x,f(x)):')\n",
    "for i in range(len(inputs)):\n",
    "    print('('+str(inputs[i])+','+str(outputs[i])+')')"
   ]
  },
  {
   "cell_type": "markdown",
   "id": "c4961d6e",
   "metadata": {},
   "source": [
    "\n",
    "Suddenly the outputs change drastically. Instead of getting things like $\\big(\\frac{4}{3}\\big)^{2}$ as an output, I'm only getting the natural numbers squared. While it is a function mapped from $\\mathbb{N}$ to $\\mathbb{R}$, the output is actually just the set:\n",
    "\n",
    "$$\\{x^{2}\\in \\mathbb{N}:x\\in \\mathbb{N}\\}$$\n",
    "\n",
    "Try to read this set on your own based on how we did it together earlier.\n",
    "\n",
    "Again, you may be unimpressed right now but what if I map to the set $\\mathbb{Z}_{<0}=\\{-1,-2,-3,-4,\\ldots\\}$, the negative integers:\n",
    "\n",
    "$$f=x\\mapsto x^{2}:\\mathbb{N}\\rightarrow \\mathbb{Z}_{<0}$$\n",
    "\n",
    "Alternatively:\n",
    "\n",
    "Let $f:\\mathbb{N}\\rightarrow\\mathbb{Z}_{<0}$ such that $f(x)=x^{2}$.\n",
    "\n",
    "By this the relation is $(x,x^{2})\\in \\mathbb{N}\\times \\mathbb{Z}_{<0}$, but what object that is squared can exist in $\\mathbb{Z}_{<0}$?\n",
    "\n",
    "Now $f$ has no outputs. It's output is undefined entirely. You may not think this matters now, but it actually matters a WHOLE LOT when the math gets spicer. We say undefined because part of the definition of a function is that every member in the source set has to be mapped. No member of $\\mathbb{N}$ has a valid output in $\\mathbb{Z}_{<0}$, so the function is invalid. As a consequence, the relation is empty:"
   ]
  },
  {
   "cell_type": "code",
   "execution_count": null,
   "id": "dc3c0abc",
   "metadata": {},
   "outputs": [],
   "source": [
    "def f(x):\n",
    "    if x ** 2 < 0:\n",
    "        return x**2\n",
    "\n",
    "inputs = [0,1,2,4,5,6,7,8,9]\n",
    "\n",
    "outputs = list(map(f,inputs))\n",
    "\n",
    "if len(set(outputs)) == 1:\n",
    "    outputs = set()\n",
    "\n",
    "print('Sample Inputs:\\n',set(inputs),'\\n')\n",
    "print('Number of elements:', len(inputs),'\\n')\n",
    "print('Sample Outputs:\\n',set(outputs),'\\n')\n",
    "print('Number of elements:', len(set(outputs)),'\\n')"
   ]
  },
  {
   "cell_type": "markdown",
   "id": "0862c7e9",
   "metadata": {},
   "source": [
    "Okay, with that quick introduction done let's get a little more serious here.\n",
    "\n",
    "If you've seen any of this already you might think it has a lot to do with truth statements that have $\\textbf{truth values}$ and such. It's really about functions applied to variables with values in the set $\\{0,1\\}$. Why people choose the obfuscate this fact is beyond me, but let's start; $\\textbf{truth tables}$ and $\\textbf{propositional logic}$!\n",
    "\n",
    "Some places you will see set $\\textbf{T}$ for true and $\\textbf{F}$ for false. This is all well and good, but for a number of reasons I'm just going to substitute $1$ for $\\textbf{T}$ and $0$ for $\\textbf{F}$. This is where the binary set $\\{0,1\\}$ comes into play.\n",
    "\n",
    "Statements that can be thought to be true are things like \"$4+4=8$\" or \"$\\textit{some dogs are black}$\". This idea isn't super compelling though. The real importance behind our discussion is the truth value of variables.\n",
    "\n",
    "Let's say I have a statement \"$x\\leq 4$\". Well the validity, or $\\textbf{truth value}$, of this statement is going to be based on the value of $x$. That's $NOT$ the variable I'm interested in though. The whole statement \"$x\\leq 4$\" itself can be thought of as a variable of sorts. Confusing, I know. Bear with me. \"$x\\leq 4$\" can be true or it can be false depending on what $x$ is, thus the value output of the statement itself as a true/false statement can vary. If $x=10$ then \"$x\\leq 4$\" is false whereas if $x=2$ then \"$x\\leq 4$\" is true. While \"$4+4=8$\" and \"$\\textit{some dogs are black}$\" are always true, we're interested mostly in things that can either be false or true.\n",
    "\n",
    "This example should help. Let's just imagine four such variable truth statements, and we'll call them $A$, $B$, $C$, and $D$.\n",
    "\n",
    "$\\hphantom{abcdefg}A:\\hphantom{abcdefg}a\\leq 10$\n",
    "\n",
    "$\\hphantom{abcdefg}B:\\hphantom{abcddfg}\\textit{b is a cat}$\n",
    "\n",
    "$\\hphantom{abcdefg}C:\\hphantom{abcddfg}c-10=50$\n",
    "\n",
    "$\\hphantom{abcdefg}D:\\hphantom{abcddfg}\\textit{d has big ears}$\n",
    "\n",
    "We will also create a $\\textbf{tautology}$ and a $\\textbf{contradiction}$. These are statements that are always true and always false respectively. Sometimes they're referred to as $\\textbf{valid}$ or $\\textbf{invalid}$ statements.\n",
    "\n",
    "$\\hphantom{abcdefg}T:\\hphantom{abcdefg}4+4=8$\n",
    "\n",
    "$\\hphantom{abcdefg}F:\\hphantom{abcdefg}\\textit{Water doesn't exist.}$\n",
    "\n",
    "We're going to build all of these into a $\\textbf{truth table}$. Let's start with setting $1$ for $T$ and $0$ for $F$."
   ]
  },
  {
   "cell_type": "code",
   "execution_count": null,
   "id": "afd04e03",
   "metadata": {},
   "outputs": [],
   "source": [
    "import pandas as pd"
   ]
  },
  {
   "cell_type": "code",
   "execution_count": null,
   "id": "82fc36dc",
   "metadata": {},
   "outputs": [],
   "source": [
    "data1 = [[1,0]]\n",
    "\n",
    "frame1 = pd.DataFrame(data1, columns = ['T','F'])\n",
    "frame1s = pd.DataFrame(data1, columns = ['4+4=8','Water doesn\\'t exist.'])\n",
    "\n",
    "print(frame1,'\\n')\n",
    "print(frame1s)"
   ]
  },
  {
   "cell_type": "markdown",
   "id": "7efe111d",
   "metadata": {},
   "source": [
    "The counter on the far left has a $0$ in it, but this just indicates the row you're on in the table. You can ignore that.\n",
    "\n",
    "The rest is pretty straightforward. $T$ is always $1$, and $F$ is always $0$. Let's add some complexity. We're going to add $A$, but we need a case for when $A=0$ and when $A=1$:"
   ]
  },
  {
   "cell_type": "code",
   "execution_count": null,
   "id": "e1813398",
   "metadata": {},
   "outputs": [],
   "source": [
    "data2 = [[1,0,0],\n",
    "         [1,0,1]]\n",
    "\n",
    "frame2 = pd.DataFrame(data2, columns = ['T','F','A'])\n",
    "frame2s = pd.DataFrame(data2, columns = ['4+4=8','Water doesn\\'t exist.','𝑎≤10'])\n",
    "\n",
    "print(frame2,'\\n')\n",
    "print(frame2s)"
   ]
  },
  {
   "cell_type": "markdown",
   "id": "2613c0cf",
   "metadata": {},
   "source": [
    "See how I had to create a new row? Again ignore the row counter on the left.\n",
    "\n",
    "Next we need $B$. However, within the variability of $B$ lies the variability of the statement $A$. If we say $a=2$ it's definitely less than $10$, and that can happen at the same time $b$ is actually my dog, Phoebe; not a cat at all. We need to explore every possible outcome so we need $4$ rows instead of the $2$ for just $A$ and the single row for our initial table."
   ]
  },
  {
   "cell_type": "code",
   "execution_count": null,
   "id": "cde23d7c",
   "metadata": {},
   "outputs": [],
   "source": [
    "data3 = [[1,0,0,0],[1,0,0,1],[1,0,1,0],[1,0,1,1]]\n",
    "\n",
    "frame3 = pd.DataFrame(data3, columns = ['T','F','A','B'])\n",
    "frame3s = pd.DataFrame(data3, columns = ['4+4=8','Water doesn\\'t exist.','𝑎≤10','b is a cat'])\n",
    "\n",
    "print(frame3,'\\n')\n",
    "print(frame3s)"
   ]
  },
  {
   "cell_type": "markdown",
   "id": "102f0c7c",
   "metadata": {},
   "source": [
    "To add $C$ we now have to account for all the possible outcomes of $A$ and $B$ while adding in the variability of $C$ itself.  So $a$ can be greater than $10$ or less than or equal to $10$ at the same time $b$ can either be a cat or not a cat at the same time $c$ can equal $60$ or not. Considering all possible outcomes we get:"
   ]
  },
  {
   "cell_type": "code",
   "execution_count": null,
   "id": "76148109",
   "metadata": {},
   "outputs": [],
   "source": [
    "data4 = [[1,0,0,0,0],\n",
    "         [1,0,0,0,1],\n",
    "         [1,0,0,1,0],\n",
    "         [1,0,0,1,1],\n",
    "         [1,0,1,0,0],\n",
    "         [1,0,1,0,1],\n",
    "         [1,0,1,1,0],\n",
    "         [1,0,1,1,1]]\n",
    "\n",
    "frame4 = pd.DataFrame(data4, columns = ['T','F','A','B','C'])\n",
    "frame4s = pd.DataFrame(data4, columns = ['4+4=8','Water doesn\\'t exist.','𝑎≤10','b is a cat','𝑐−10=50'])\n",
    "\n",
    "print(frame4,'\\n')\n",
    "print(frame4s)"
   ]
  },
  {
   "cell_type": "markdown",
   "id": "d1a7acd7",
   "metadata": {},
   "source": [
    "Now we have $8$ rows. If you're clever you've noticed a pattern. The $\\textbf{tautology}$ and $\\textbf{contradiction}$ supply rows to the order of $2^{0}$. Next, when we add one variable we get $2^{1}$ rows. When we add another we get $2^{2}$ rows, and then $2^{3}$ rows. Adding $D$ will give us $2^{4}$ rows:"
   ]
  },
  {
   "cell_type": "code",
   "execution_count": null,
   "id": "46737315",
   "metadata": {},
   "outputs": [],
   "source": [
    "data5 = [[1,0,0,0,0,0],\n",
    "         [1,0,0,0,0,1],\n",
    "         [1,0,0,0,1,0],\n",
    "         [1,0,0,0,1,1],\n",
    "         [1,0,0,1,0,0],\n",
    "         [1,0,0,1,0,1],\n",
    "         [1,0,0,1,1,0],\n",
    "         [1,0,0,1,1,1],\n",
    "         [1,0,1,0,0,0],\n",
    "         [1,0,1,0,0,1],\n",
    "         [1,0,1,0,1,0],\n",
    "         [1,0,1,0,1,1],\n",
    "         [1,0,1,1,0,0],\n",
    "         [1,0,1,1,0,1],\n",
    "         [1,0,1,1,1,0],\n",
    "         [1,0,1,1,1,1]]\n",
    "\n",
    "frame5 = pd.DataFrame(data5, columns = ['T','F','A','B','C','D'])\n",
    "frame5s = pd.DataFrame(data5, columns = ['4+4=8','Water doesn\\'t exist.','𝑎≤10','b is a cat','𝑐−10=50','d has big ears'])\n",
    "\n",
    "print(frame5,'\\n')\n",
    "print(frame5s)"
   ]
  },
  {
   "cell_type": "markdown",
   "id": "c039d52e",
   "metadata": {},
   "source": [
    "Have you noticed that this looks a lot like binary? If you weren't thinking it, then happy I could help. These values can be used as the backbone of logic gates, and we're going to introduce the first functions you will use to build those gates.\n",
    "\n",
    "Let's think about the sets $\\{0,1\\}$ and the tuples of $\\{0,1\\}\\times \\{0,1\\}$. We first define the \"not\" or \"negation\" function as:\n",
    "\n",
    "$\\neg:\\{0,1\\}\\rightarrow\\{0,1\\}$ such that $\\neg(x)=\\begin{cases}1&\\text{if }x=0\\\\\n",
    "0&\\text{if }x=1\n",
    "\\end{cases}$. We also write this $\\neg x$.\n",
    "\n",
    "Next we think of \"and\" as:\n",
    "\n",
    "$\\land:\\{0,1\\}\\times\\{0,1\\}\\rightarrow\\{0,1\\}$ such that $\\land(x,y)=\\begin{cases}1&\\text{if } x=1,y=1\\\\\n",
    "0&\\text{otherwise}\n",
    "\\end{cases}$. We also write this $x\\land y$.\n",
    "\n",
    "Finally we think of \"or\" as:\n",
    "\n",
    "$\\lor:\\{0,1\\}\\times\\{0,1\\}\\rightarrow\\{0,1\\}$ such that $\\lor(x,y)=\\begin{cases}0&\\text{if }x=0,y=0\\\\\n",
    "1&\\text{otherwise}\n",
    "\\end{cases}$. We also write this $x\\lor y$.\n",
    "\n",
    "In simpler terms, $\\neg$ flips a switch from $0$ to $1$ and back. $\\land$ only returns $1$ if both input values are $1$. $\\lor$ only returns $0$ if both input values are $0$.\n",
    "\n",
    "Let's quickly code some of these gates:"
   ]
  },
  {
   "cell_type": "code",
   "execution_count": null,
   "id": "edc8d0ac",
   "metadata": {},
   "outputs": [],
   "source": [
    "def neg_(x):\n",
    "    if x == 1: return 0\n",
    "    else: return 1\n",
    "\n",
    "def and_(x,y):\n",
    "    if x == 1 and y == 1: return 1\n",
    "    else: return 0\n",
    "    \n",
    "def or_(x,y):\n",
    "    if x == 1 or y == 1: return 1\n",
    "    else: return 0"
   ]
  },
  {
   "cell_type": "code",
   "execution_count": null,
   "id": "cf592aa1",
   "metadata": {},
   "outputs": [],
   "source": [
    "print('¬0:',neg_(0))\n",
    "print('¬1:',neg_(1))\n",
    "print()\n",
    "print('0∧0:',and_(0,0))\n",
    "print('0∧1:',and_(0,1))\n",
    "print('1∧0:',and_(1,0))\n",
    "print('1∧1:',and_(1,1))\n",
    "print()\n",
    "print('0∨0:',or_(0,0))\n",
    "print('0∨1:',or_(0,1))\n",
    "print('1∨0:',or_(1,0))\n",
    "print('1∨1:',or_(1,1))"
   ]
  },
  {
   "cell_type": "markdown",
   "id": "22696b30",
   "metadata": {},
   "source": [
    "Let's play with some of these to make sure they work:"
   ]
  },
  {
   "cell_type": "code",
   "execution_count": null,
   "id": "813eb64e",
   "metadata": {},
   "outputs": [],
   "source": [
    "print('1∧(¬(1∧(0∨0))):', and_(1,neg_(and_(1,or_(0,0)))))\n",
    "print('1∧(1∧(0∨0)):', and_(1,and_(1,or_(0,0))))\n",
    "print('((1∨0)∨1)∨0:', or_(or_(or_(1,0),1),0))"
   ]
  },
  {
   "cell_type": "markdown",
   "id": "eca293a0",
   "metadata": {},
   "source": [
    "Seems they work.\n",
    "\n",
    "Notice that while I printed the solution to $1\\lor 0\\lor 1\\lor 0$ above, I did so by clarifying $((1\\lor 0)\\lor 1)\\lor 0$. This distinction may not feel important here, but it is very important. It turns out that things behave nicely when they're all the same symbol, either $\\land$ or $\\lor$, because of $\\textbf{associativity laws}$. When they get intermixed things become tricky. What I mean by intermixed is something like $x\\land y\\lor z$. Do we group $(x\\land y)\\lor z$ or $x\\land(y\\lor z)$? We will get to why this is an issue shortly. For now let's keep our groupings tight so we always know what we're doing.\n",
    "\n",
    "Okay. Let's try stuff!\n",
    "\n",
    "Coming back to our tables, since $4$ variables is a bit aggressive let's dial it back to $3$. Let's also plot $\\neg A$, $\\neg C$, $A\\land B$, $A\\land (A\\land B)$, and $(\\neg C)\\lor (A\\land (A\\land B))$.\n",
    "\n",
    "Before we plot though, what am I even doing?\n",
    "\n",
    "So what happens when $A$ is $0$? Well $\\neg A=1$. What about when $A$ is $1$? $\\neg A=0$. There isn't a lot to this. We're just going to fill in the rows. Whatever value is in $A$ we write the value for $\\neg A$ in the same row. There is that $(A,\\neg A)$ relation pair that I promised earlier.\n",
    "\n",
    "Let's hand do one really quick for all of our functions. What happens when $A=0$, $B=1$, and $C=1$:\n",
    "\n",
    "$$\\neg \\color{blue}{A}\\color{black}{}= \\neg(\\color{blue}{0}\\color{black}{})=1$$\n",
    "\n",
    "$$\\neg \\color{blue}{C}\\color{black}{}=\\neg(\\color{blue}{1}\\color{black}{})=0 $$\n",
    "\n",
    "$$\\color{blue}{A}\\color{black}{}\\land \\color{red}{B}\\color{black}{}=\\land(\\color{blue}{0}\\color{black}{},\\color{red}{1}\\color{black}{})=0$$\n",
    "\n",
    "$$\\color{blue}{A}\\color{black}{}\\land \\color{red}{(A\\land B)}\\color{black}{}=\\land(\\color{blue}{0}\\color{black}{},\\color{red}{0}\\color{black}{})=0$$\n",
    "\n",
    "$$\\color{blue}{(\\neg C)}\\color{black}{}\\lor \\color{red}{(A\\land (A\\land B))}\\color{black}{}=\\lor(\\color{blue}{0}\\color{black}{},\\color{red}{0}\\color{black}{})=0$$\n",
    "\n",
    "We can plot all the posibilities on our $\\textbf{truth table}$. Let's plot slowly so this really sinks in. First we'll add $\\neg A$ and $\\neg C$. For $\\neg A$ we just take the value in the same row under column $A$ and flip it. We do the same for $\\neg C$ with values under column $C$:"
   ]
  },
  {
   "cell_type": "code",
   "execution_count": null,
   "id": "97217858",
   "metadata": {},
   "outputs": [],
   "source": [
    "data6 = [[1,0,0,0,0,1,1],\n",
    "         [1,0,0,0,1,1,0],\n",
    "         [1,0,0,1,0,1,1],\n",
    "         [1,0,0,1,1,1,0],\n",
    "         [1,0,1,0,0,0,1],\n",
    "         [1,0,1,0,1,0,0],\n",
    "         [1,0,1,1,0,0,1],\n",
    "         [1,0,1,1,1,0,0]]\n",
    "\n",
    "frame6 = pd.DataFrame(data6, columns = ['T','F','A','B','C','¬A','¬C'])\n",
    "\n",
    "frame6"
   ]
  },
  {
   "cell_type": "markdown",
   "id": "eb0673d6",
   "metadata": {},
   "source": [
    "Now let's add the value returns for columns $A\\land B$:"
   ]
  },
  {
   "cell_type": "code",
   "execution_count": null,
   "id": "6779143c",
   "metadata": {},
   "outputs": [],
   "source": [
    "data7 = [[1,0,0,0,0,1,1,0],\n",
    "         [1,0,0,0,1,1,0,0],\n",
    "         [1,0,0,1,0,1,1,0],\n",
    "         [1,0,0,1,1,1,0,0],\n",
    "         [1,0,1,0,0,0,1,0],\n",
    "         [1,0,1,0,1,0,0,0],\n",
    "         [1,0,1,1,0,0,1,1],\n",
    "         [1,0,1,1,1,0,0,1]]\n",
    "\n",
    "frame7 = pd.DataFrame(data7, columns = ['T','F','A','B','C','¬A','¬C','A∧B'])\n",
    "\n",
    "frame7"
   ]
  },
  {
   "cell_type": "markdown",
   "id": "0b027e67",
   "metadata": {},
   "source": [
    "Notice how only the last two rows of $A\\land B$ get $1$ values. This is because only the last two rows of $A$ and $B$ share a $1$ in common.Okay, next is $A\\land(A\\land B)$:"
   ]
  },
  {
   "cell_type": "code",
   "execution_count": null,
   "id": "92597eee",
   "metadata": {},
   "outputs": [],
   "source": [
    "data8 = [[1,0,0,0,0,1,1,0,0],\n",
    "         [1,0,0,0,1,1,0,0,0],\n",
    "         [1,0,0,1,0,1,1,0,0],\n",
    "         [1,0,0,1,1,1,0,0,0],\n",
    "         [1,0,1,0,0,0,1,0,0],\n",
    "         [1,0,1,0,1,0,0,0,0],\n",
    "         [1,0,1,1,0,0,1,1,1],\n",
    "         [1,0,1,1,1,0,0,1,1]]\n",
    "\n",
    "frame8 = pd.DataFrame(data8, columns = ['T','F','A','B','C','¬A','¬C','A∧B','A∧(A∧B)'])\n",
    "\n",
    "frame8"
   ]
  },
  {
   "cell_type": "markdown",
   "id": "52cf7128",
   "metadata": {},
   "source": [
    "Notice how $A\\land B$ and $A\\land (A\\land B)$ have the same exact column. This isn't a coincidence, and it will be a cool to check out why once you are given all the rules. Finally $(\\neg C)\\lor(A\\land (A\\land B))$:"
   ]
  },
  {
   "cell_type": "code",
   "execution_count": null,
   "id": "212f85b2",
   "metadata": {},
   "outputs": [],
   "source": [
    "data9 = [[1,0,0,0,0,1,1,0,0,1],\n",
    "         [1,0,0,0,1,1,0,0,0,0],\n",
    "         [1,0,0,1,0,1,1,0,0,1],\n",
    "         [1,0,0,1,1,1,0,0,0,0],\n",
    "         [1,0,1,0,0,0,1,0,0,1],\n",
    "         [1,0,1,0,1,0,0,0,0,0],\n",
    "         [1,0,1,1,0,0,1,1,1,1],\n",
    "         [1,0,1,1,1,0,0,1,1,1]]\n",
    "\n",
    "frame9 = pd.DataFrame(data9, columns = ['T','F','A','B','C','¬A','¬C','A∧B','A∧(A∧B)','(¬C)∨(A∧(A∧B))'])\n",
    "\n",
    "frame9"
   ]
  },
  {
   "cell_type": "markdown",
   "id": "b875f650",
   "metadata": {},
   "source": [
    "We start with an alternating pattern of $1$'s and $0$'s. Most of it comes from the $\\neg C$ column. The last entry at the very bottom row changes because the \"or\" function carries the $1$ from the $A\\land (A\\land B)$ column.\n",
    "\n",
    "Okay, that's a quick entry point into how these things expand. Let's try some more gates. What about the famous \"xor\", short for \"exclusive or\"?\n",
    "\n",
    "Let $\\oplus:\\{0,1\\}\\times \\{0,1\\}\\rightarrow \\{0,1\\}$ such that $\\oplus(x,y)=\\begin{cases}0&\\text{if } x=1,y=1\\text{ or }x=0,y=0\\\\\n",
    "1&\\text{otherwise}\n",
    "\\end{cases}$. We also write this $x\\oplus y$.\n",
    "\n",
    "Basically if $x$ and $y$ match we return $0$. If they're different we return $1$. Bringing our table back down to two variables, let's plot this:"
   ]
  },
  {
   "cell_type": "code",
   "execution_count": null,
   "id": "0ce889b3",
   "metadata": {},
   "outputs": [],
   "source": [
    "data10 = [[1,0,0,0,0],\n",
    "         [1,0,0,1,1],\n",
    "         [1,0,1,0,1],\n",
    "         [1,0,1,1,0]]\n",
    "\n",
    "frame10 = pd.DataFrame(data10, columns = ['T','F','A','B','A⊕B'])\n",
    "\n",
    "frame10"
   ]
  },
  {
   "cell_type": "markdown",
   "id": "61810776",
   "metadata": {},
   "source": [
    "We can even build the function:"
   ]
  },
  {
   "cell_type": "code",
   "execution_count": null,
   "id": "45954fd2",
   "metadata": {},
   "outputs": [],
   "source": [
    "def xor_(x,y):\n",
    "    if x == y: return 0\n",
    "    else: return 1"
   ]
  },
  {
   "cell_type": "markdown",
   "id": "7d69945a",
   "metadata": {},
   "source": [
    "And test it:"
   ]
  },
  {
   "cell_type": "code",
   "execution_count": null,
   "id": "148e18bd",
   "metadata": {},
   "outputs": [],
   "source": [
    "print('0⊕0:',xor_(0,0))\n",
    "print('0⊕1:',xor_(0,1))\n",
    "print('1⊕0:',xor_(1,0))\n",
    "print('1⊕1:',xor_(1,1))"
   ]
  },
  {
   "cell_type": "markdown",
   "id": "332f1544",
   "metadata": {},
   "source": [
    "Let me try something real quick. Bear with me a second... Let's plot $\\neg A$ and $\\neg B$. Then we'll plot $A\\land(\\neg B)$ along with $B\\land (\\neg A)$:"
   ]
  },
  {
   "cell_type": "code",
   "execution_count": null,
   "id": "86b58b50",
   "metadata": {},
   "outputs": [],
   "source": [
    "data11 = [[1,0,0,0,1,1,0,0],\n",
    "         [1,0,0,1,1,0,0,1],\n",
    "         [1,0,1,0,0,1,1,0],\n",
    "         [1,0,1,1,0,0,0,0]]\n",
    "\n",
    "frame11 = pd.DataFrame(data11, columns = ['T','F','A','B','¬A','¬B','A∧(¬B)','B∧(¬A)'])\n",
    "\n",
    "frame11"
   ]
  },
  {
   "cell_type": "markdown",
   "id": "9592ed35",
   "metadata": {},
   "source": [
    "What if we then took $\\big(A\\land(\\neg B)\\big)\\lor\\big(B\\land(\\neg A)\\big)$?"
   ]
  },
  {
   "cell_type": "code",
   "execution_count": null,
   "id": "d029f5ba",
   "metadata": {},
   "outputs": [],
   "source": [
    "data12 = [[1,0,0,0,1,1,0,0,0,0],\n",
    "         [1,0,0,1,1,0,0,1,1,1],\n",
    "         [1,0,1,0,0,1,1,0,1,1],\n",
    "         [1,0,1,1,0,0,0,0,0,0]]\n",
    "\n",
    "frame12 = pd.DataFrame(data12, columns = ['T','F','A','B','¬A','¬B','A∧(¬B)','B∧(¬A)','(A∧(¬B))∨(B∧(¬A))','A⊕B'])\n",
    "\n",
    "frame12"
   ]
  },
  {
   "cell_type": "markdown",
   "id": "9e5371d5",
   "metadata": {},
   "source": [
    "!!!!!!!!!!!!\n",
    "\n",
    "$\\big(A\\land(\\neg B)\\big)\\lor\\big(B\\land(\\neg A)\\big)$ precisely matches $\\text{XOR}$. We call these functions $\\textbf{equivalent}$. In fact, pretty much all advanced logical functions come down some composition of the original three.\n",
    "\n",
    "Wait, let's check this with code:"
   ]
  },
  {
   "cell_type": "code",
   "execution_count": null,
   "id": "fa3c2cfe",
   "metadata": {},
   "outputs": [],
   "source": [
    "def check_(x,y):\n",
    "    if or_(and_(x,neg_(y)),and_(x,neg_(y))) == xor_(x,y):\n",
    "        return 1\n",
    "    else:\n",
    "        return 0\n",
    "\n",
    "print('(0∧(¬0))∨(0∧(¬0)) = 0⊕0:', check_(0,0))\n",
    "print('(0∧(¬1))∨(1∧(¬0)) = 0⊕1:', check_(0,1))\n",
    "print('(1∧(¬0))∨(0∧(¬1)) = 1⊕0:', check_(1,0))\n",
    "print('(1∧(¬1))∨(1∧(¬1)) = 1⊕1:', check_(1,1))"
   ]
  },
  {
   "cell_type": "markdown",
   "id": "8cbc8734",
   "metadata": {},
   "source": [
    "\n",
    "Let's look at another important one, implication. Let's define $A$ \"implies\" B:\n",
    "\n",
    "$\\implies:\\{0,1\\}\\times \\{0,1\\}\\rightarrow\\{0,1\\}$ such that $\\implies(x,y)=\\begin{cases}0&\\text{if } x=1,y=0\\\\\n",
    "1&\\text{otherwise}\n",
    "\\end{cases}$. We also write this $x\\implies y$.\n",
    "\n",
    "Let's code the function:"
   ]
  },
  {
   "cell_type": "code",
   "execution_count": null,
   "id": "fb95c60b",
   "metadata": {},
   "outputs": [],
   "source": [
    "def imp_(x,y):\n",
    "    if x == 1 and y == 0: return 0\n",
    "    else: return 1"
   ]
  },
  {
   "cell_type": "markdown",
   "id": "58d4ad67",
   "metadata": {},
   "source": [
    "And check:"
   ]
  },
  {
   "cell_type": "code",
   "execution_count": null,
   "id": "9cda1605",
   "metadata": {},
   "outputs": [],
   "source": [
    "print('0⟹0:',imp_(0,0))\n",
    "print('0⟹1:',imp_(0,1))\n",
    "print('1⟹0:',imp_(1,0))\n",
    "print('1⟹1:',imp_(1,1))"
   ]
  },
  {
   "cell_type": "markdown",
   "id": "97967adc",
   "metadata": {},
   "source": [
    "\n",
    "This one is often tricky for students to remember.\n",
    "\n",
    "$$(1\\implies 1) = 1$$\n",
    "$$(1\\implies 0) = 0$$\n",
    "$$(0\\implies 1) = 1$$\n",
    "$$(0\\implies 0) = 1$$\n",
    "\n",
    "Let's change our $A$ and $B$ statements for a second to come up a with a good example. Set $A$ to $\\textit{a is my dog}$ and $B$ to $\\textit{b lives in Philly}$. Now imagine we set $a=b$ so whatever we're talking about is the same for both variables.\n",
    "\n",
    "Consider the first row of $A$ with $B$ where $A=0$ and $B=0$, and the second row where $A=0$ and $B=1$:\n",
    "\n",
    "$$\\text{Phoebe is not my dog. }\\implies\\text{ Phoebe does not live in Philly. } =1$$\n",
    "$$\\text{Phoebe is not my dog. }\\implies\\text{ Phoebe lives in Philly. } =1$$\n",
    "\n",
    "While we know Phoebe is my dog, perhaps I meant another Phoebe? Maybe a human Phoebe? Maybe a cat Phoebe? This alternate Phoebe could live in Philly, but she could also not. If she's not my dog we don't know anything.\n",
    "\n",
    "The third row where $A=1$ and $B=0$, and the last row where $A=1$ and $B=1$:\n",
    "\n",
    "\n",
    "$$\\text{Phoebe is my dog. }\\implies\\text{ Phoebe does not live in Philly. }=0$$\n",
    "$$\\text{Phoebe is my dog. }\\implies\\text{ Phoebe lives in Philly. } =1$$\n",
    "\n",
    "We know Phoebe lives with me in Philly, so the fact that Phoebe is my dog means she lives in Philly. Thus a $0$. If Phoebe is my dog though, she definitely lives in Philly.\n",
    "\n",
    "If you're like me, this premise is not intuitive at all initially. It's okay. In fact when I use this idea during proofs I often break it down to an equivalent statement that feels easier to follow. For now let's just plot this:"
   ]
  },
  {
   "cell_type": "code",
   "execution_count": null,
   "id": "4229b8c1",
   "metadata": {},
   "outputs": [],
   "source": [
    "data13 = [[1,0,0,0,1],\n",
    "         [1,0,0,1,1],\n",
    "         [1,0,1,0,0],\n",
    "         [1,0,1,1,1]]\n",
    "\n",
    "frame13 = pd.DataFrame(data13, columns = ['T','F','A','B','A⟹B'])\n",
    "\n",
    "frame13"
   ]
  },
  {
   "cell_type": "markdown",
   "id": "62ac7667",
   "metadata": {},
   "source": [
    "Alright, let's build its logical equivalent, since I find that easier to think about. Consider $\\neg A$ and $(\\neg A)\\lor B$:"
   ]
  },
  {
   "cell_type": "code",
   "execution_count": null,
   "id": "4b176cf7",
   "metadata": {},
   "outputs": [],
   "source": [
    "data14 = [[1,0,0,0,1,1,1],\n",
    "         [1,0,0,1,1,1,1],\n",
    "         [1,0,1,0,0,0,0],\n",
    "         [1,0,1,1,0,1,1]]\n",
    "\n",
    "frame14 = pd.DataFrame(data14, columns = ['T','F','A','B','¬A','(¬A)∨B','A⟹B'])\n",
    "\n",
    "frame14"
   ]
  },
  {
   "cell_type": "markdown",
   "id": "948f7958",
   "metadata": {},
   "source": [
    "Awesome! They're logically equivalent!\n",
    "\n",
    "Let's check this:"
   ]
  },
  {
   "cell_type": "code",
   "execution_count": null,
   "id": "5b26ad1d",
   "metadata": {},
   "outputs": [],
   "source": [
    "def check_(x,y):\n",
    "    if or_(neg_(x),y) == imp_(x,y):\n",
    "        return 1\n",
    "    else:\n",
    "        return 0\n",
    "\n",
    "print('(¬0)∨0 = 0⟹0:', check_(0,0))\n",
    "print('(¬0)∨1 = 0⟹1:', check_(0,1))\n",
    "print('(¬1)∨0 = 1⟹0:', check_(1,0))\n",
    "print('(¬1)∨1 = 1⟹1:', check_(1,1))"
   ]
  },
  {
   "cell_type": "markdown",
   "id": "71069f1e",
   "metadata": {},
   "source": [
    "\n",
    "What does this actually look like logically though? We know $A$ is the statement $\\textit{a is my dog}$ so when we take $\\neg A$ we get $\\textit{a is not my dog}$.\n",
    "\n",
    "$$\\text{Phoebe is not my dog. }\\lor\\text{ Phoebe does not live in Philly. } =1$$\n",
    "$$\\text{Phoebe is not my dog. }\\lor\\text{ Phoebe lives in Philly. } =1$$\n",
    "\n",
    "Since it is true that this Phoebe is not my dog it doesn't matter where she lives. She is always not my dog. Hence we always return a $1$. Now for the last two rows were $\\neg A =0$. The mystery is solved! Phoebe was my Phoebe all along. We were wrong! What happens when $B=0$?\n",
    "\n",
    "$$\\text{Phoebe is my dog. }\\lor\\text{ Phoebe does not live in Philly. } =0$$\n",
    "\n",
    "This is $0$ because not only did we think Phoebe was some other Phoebe, but my Phoebe lives in Philly! Since neither statement is true, our output isn't true. What about when $B=1$?\n",
    "\n",
    "$$\\text{Phoebe is my dog. }\\lor\\text{ Phoebe lives in Philly. } =1$$\n",
    "\n",
    "We may have been wrong about which Phoebe we were talking about, but Phoebe is our Phoebe. She definitely lives in Philly! Our result is a $1$ because of this second fact!\n",
    "\n",
    "However you're able to piece together the logic in your head is the correct way. Do whatever feels natural. The rest will come with time. It's not an easy concept.\n",
    "\n",
    "Now, $A\\implies B$ is in the books. What about $B\\implies A$??\n",
    "\n",
    "We can even go one step further. Let's define \"if and only if\", or the $\\iff$ function. We will also show how $A\\iff B$ is logically equivalent to $(A\\implies B)\\land (B\\implies A)$.\n",
    "\n",
    "Let $\\iff:\\{0,1\\}\\times\\{0,1\\}\\rightarrow\\{0,1\\}$ such that $\\iff(x,y)=\\begin{cases}1&\\text{if } x=y\\\\\n",
    "0&\\text{otherwise}\n",
    "\\end{cases}$. We also write this $x\\iff y$.\n",
    "\n",
    "You know the drill. Let's code it:"
   ]
  },
  {
   "cell_type": "code",
   "execution_count": null,
   "id": "daae4ba0",
   "metadata": {},
   "outputs": [],
   "source": [
    "def iff_(x,y):\n",
    "    if x == y: return 1\n",
    "    else: return 0"
   ]
  },
  {
   "cell_type": "markdown",
   "id": "3abc1c8b",
   "metadata": {},
   "source": [
    "Let's check:"
   ]
  },
  {
   "cell_type": "code",
   "execution_count": null,
   "id": "507e2f20",
   "metadata": {},
   "outputs": [],
   "source": [
    "print('0⟺0:',iff_(0,0))\n",
    "print('0⟺1:',iff_(0,1))\n",
    "print('1⟺0:',iff_(1,0))\n",
    "print('1⟺1:',iff_(1,1))"
   ]
  },
  {
   "cell_type": "markdown",
   "id": "97e62065",
   "metadata": {},
   "source": [
    "And let's build the data frame:"
   ]
  },
  {
   "cell_type": "code",
   "execution_count": null,
   "id": "28ad0991",
   "metadata": {},
   "outputs": [],
   "source": [
    "data15 = [[1,0,0,0,1,1,1,1],\n",
    "         [1,0,0,1,1,0,0,0],\n",
    "         [1,0,1,0,0,1,0,0],\n",
    "         [1,0,1,1,1,1,1,1]]\n",
    "\n",
    "frame15 = pd.DataFrame(data15, columns = ['T','F','A','B','A⟹B','B⟹A','(A⟹B)∧(B⟹A)','A⟺B'])\n",
    "\n",
    "frame15"
   ]
  },
  {
   "cell_type": "markdown",
   "id": "ec7fdf84",
   "metadata": {},
   "source": [
    "And show the equivalency:"
   ]
  },
  {
   "cell_type": "code",
   "execution_count": null,
   "id": "60826837",
   "metadata": {},
   "outputs": [],
   "source": [
    "def check_(x,y):\n",
    "    if and_(imp_(x,y),imp_(y,x)) == iff_(x,y):\n",
    "        return 1\n",
    "    else:\n",
    "        return 0\n",
    "\n",
    "print('((0⟹0)∧(0⟹0)) = 0⟺0:', check_(0,0))\n",
    "print('((0⟹1)∧(1⟹0)) = 0⟺1:', check_(0,1))\n",
    "print('((1⟹0)∧(0⟹1)) = 1⟺0:', check_(1,0))\n",
    "print('((1⟹1)∧(1⟹1)) = 1⟺1:', check_(1,1))"
   ]
  },
  {
   "cell_type": "markdown",
   "id": "fe13b86a",
   "metadata": {},
   "source": [
    "Cool. Let's pretend now that Phoebe is the ONLY Phoebe in Philly. Everyone else named Phoebe has been forcibly removed! In this light we can see indeed that:\n",
    "\n",
    "$$\\textit{Phoebe lives in Philly. }\\implies\\textit{ Phoebe is my dog. }=1$$\n",
    "\n",
    "Similar to before with $A\\implies B$ we could break down the entire $B\\implies A$ logical pattern. But...\n",
    "\n",
    "$$\\text{if...}$$\n",
    "\n",
    "$$\\textit{Phoebe is my dog. }\\implies\\textit{ Phoebe lives in Philly. }=1$$\n",
    "\n",
    "$$\\text{and...}$$\n",
    "\n",
    "$$\\textit{Phoebe lives in Philly. }\\implies\\textit{ Phoebe is my dog. }=1$$\n",
    "\n",
    "...then there are some very real consequences to any possibility of a Phoebe that is not my Phoebe who also lives in Philly. This gives us the $0$'s. However...imagine a Phoebe not in Philly...\n",
    "\n",
    "$$\\text{if...}$$\n",
    "\n",
    "$$\\textit{Phoebe is not my dog. }\\implies\\textit{ Phoebe does not live in Philly. }=1$$\n",
    "\n",
    "$$\\text{and...}$$\n",
    "\n",
    "$$\\textit{Phoebe does not live in Philly. }\\implies\\textit{ Phoebe is not my dog. }=1$$\n",
    "\n",
    "...then we still get a $1$ logically! We call this the $\\textbf{contrapositive}$. Effectively it says there is a logical equivalence between $(\\neg A)\\iff (\\neg B)$ and $A\\iff B$. Let's see it:"
   ]
  },
  {
   "cell_type": "code",
   "execution_count": null,
   "id": "9e991755",
   "metadata": {},
   "outputs": [],
   "source": [
    "data16 = [[1,0,0,0,1,1,1,1,1,1],\n",
    "         [1,0,0,1,0,1,0,0,1,0],\n",
    "         [1,0,1,0,0,0,1,1,0,0],\n",
    "         [1,0,1,1,1,0,0,1,1,1]]\n",
    "\n",
    "frame16 = pd.DataFrame(data16, columns = ['T','F','A','B','A⟺B',\n",
    "                                          '¬A','¬B','(¬A)⟹(¬B)',\n",
    "                                          '(¬B)⟹(¬A)','((¬A)⟹(¬B))∧((¬B)⟹(¬A))'])\n",
    "\n",
    "frame16"
   ]
  },
  {
   "cell_type": "markdown",
   "id": "7038efe9",
   "metadata": {},
   "source": [
    "Something really sus is going on here. I didn't even use the $(\\neg A)\\iff (\\neg B)$ function. I could have, but I just kind of circumvented it.\n",
    "\n",
    "Let's see:"
   ]
  },
  {
   "cell_type": "code",
   "execution_count": null,
   "id": "c8398d63",
   "metadata": {},
   "outputs": [],
   "source": [
    "def check_(x,y):\n",
    "    if iff_(neg_(x),neg_(y)) == iff_(x,y):\n",
    "        return 1\n",
    "\n",
    "print('(¬0)⟺(¬0) = 0⟺0:', check_(0,0))\n",
    "print('(¬0)⟺(¬1) = 0⟺1:', check_(0,1))\n",
    "print('(¬1)⟺(¬0) = 1⟺0:', check_(1,0))\n",
    "print('(¬1)⟺(¬1) = 1⟺1:', check_(1,1))"
   ]
  },
  {
   "cell_type": "markdown",
   "id": "40511ca0",
   "metadata": {},
   "source": [
    "One other thing worth putting a pin on here, and I may have slid it right under your nose. When I talk about things being logically equivalent, the function I would use is $\\iff$. If they are logically equivalent, the result of taking such an operation would be a $\\textbf{tautology}$. Of course a reminder, a tautology is something that is always true. On the table it should mimic the $T$ column.\n",
    "\n",
    "Let's see $\\big((\\neg A)\\iff(\\neg B)\\big)\\iff\\big(A\\iff B\\big)$:"
   ]
  },
  {
   "cell_type": "code",
   "execution_count": null,
   "id": "c708f516",
   "metadata": {},
   "outputs": [],
   "source": [
    "data16 = [[1,0,0,0,1,1,1],\n",
    "         [1,0,0,1,0,0,1],\n",
    "         [1,0,1,0,0,0,1],\n",
    "         [1,0,1,1,1,1,1]]\n",
    "\n",
    "frame16 = pd.DataFrame(data16, columns = ['T','F','A','B','A⟺B','(¬A)⟺(¬B)','(A⟺B)⟺((¬A)⟺(¬B))'])\n",
    "\n",
    "frame16"
   ]
  },
  {
   "cell_type": "markdown",
   "id": "5ae10e02",
   "metadata": {},
   "source": [
    "Notice that this is always a true statement. All the \"checks\" we've done so far for logical equivalence have been secret $\\iff$ statements hiding underneath the logic.\n",
    "\n",
    "Put a pin in this though. We will come back to it.\n",
    "\n",
    "For now, one more important logical function we will break down is the $\\text{NAND}$ function.\n",
    "\n",
    "Let $\\text{NAND}:\\{0,1\\}\\times\\{0,1\\}\\rightarrow\\{0,1\\}$ such that $\\text{NAND}(x,y)=\\begin{cases}0&\\text{if } x=1,y=1\\\\\n",
    "1&\\text{otherwise}\n",
    "\\end{cases}$. We can also write this $x\\text{NAND} y$. It doesn't really have an associated symbol that I know about, but we don't really need one. $\\text{NAND}$ evokes this idea of \"not and\". Think about why this matches the conditions in the built function. If both variables are $1$, we want a $0$. Otherwise we want $1$. So let's just run with it:"
   ]
  },
  {
   "cell_type": "code",
   "execution_count": null,
   "id": "db338aee",
   "metadata": {},
   "outputs": [],
   "source": [
    "def nand_(x,y):\n",
    "    if x == y: return 0\n",
    "    else: return 1"
   ]
  },
  {
   "cell_type": "markdown",
   "id": "363a9541",
   "metadata": {},
   "source": [
    "Let's check it:"
   ]
  },
  {
   "cell_type": "code",
   "execution_count": null,
   "id": "969f65da",
   "metadata": {},
   "outputs": [],
   "source": [
    "print('0 NAND 0:', nand_(0,0))\n",
    "print('0 NAND 1:', nand_(0,1))\n",
    "print('1 NAND 0:', nand_(1,0))\n",
    "print('1 NAND 1:', nand_(1,1))"
   ]
  },
  {
   "cell_type": "markdown",
   "id": "3ff80cd5",
   "metadata": {},
   "source": [
    "Let's see the table:"
   ]
  },
  {
   "cell_type": "code",
   "execution_count": null,
   "id": "4a51caa6",
   "metadata": {},
   "outputs": [],
   "source": [
    "data17 = [[1,0,0,0,0,1,1],\n",
    "         [1,0,0,1,0,1,1],\n",
    "         [1,0,1,0,0,1,1],\n",
    "         [1,0,1,1,1,0,0]]\n",
    "\n",
    "frame17 = pd.DataFrame(data17, columns = ['T','F','A','B','A∧B','¬(A∧B)','A NAND B'])\n",
    "\n",
    "frame17"
   ]
  },
  {
   "cell_type": "markdown",
   "id": "3f6864d6",
   "metadata": {},
   "source": [
    "If you've never seen function composition before, like $f(g(x))$, you can ignore this bit, but let's break these down in terms of composition. $\\text{NAND}$ is really just $\\neg(\\land(x,y))$, $\\text{XOR}$ is really just $\\lor(\\land(x,\\neg(y)),\\land(y,\\neg(x))))$, and $\\implies$ is really just $\\lor(\\neg(x),y)$. You really can see that underpinning all of these are just our three original functions.\n",
    "\n",
    "Let me sneak something else into the above table before we move on. I know you're getting tired. This is a lot. Almost there:"
   ]
  },
  {
   "cell_type": "code",
   "execution_count": null,
   "id": "df42f57b",
   "metadata": {},
   "outputs": [],
   "source": [
    "data18 = [[1,0,0,0,1,1,0,1,1,1],\n",
    "         [1,0,0,1,1,0,0,1,1,1],\n",
    "         [1,0,1,0,0,1,0,1,1,1],\n",
    "         [1,0,1,1,0,0,1,0,0,0]]\n",
    "\n",
    "frame18 = pd.DataFrame(data18, columns = ['T','F','A','B','¬A','¬B','A∧B','¬(A∧B)','A NAND B','(¬A)∨(¬B)'])\n",
    "\n",
    "frame18"
   ]
  },
  {
   "cell_type": "markdown",
   "id": "8f68d19a",
   "metadata": {},
   "source": [
    "So not only is $A \\text{ NAND } B$ equivalent to $\\neg(A\\land B)$, but it's also equivalent to $(\\neg A)\\lor(\\neg B)$. Let's focus on these last two for a second:\n",
    "\n",
    "$$\\neg(A\\land B)=(\\neg A)\\lor (\\neg B)$$\n",
    "\n",
    "This time we'll pull the wool off, and show then $\\iff$ instead of $=$:"
   ]
  },
  {
   "cell_type": "code",
   "execution_count": null,
   "id": "4d666f00",
   "metadata": {},
   "outputs": [],
   "source": [
    "def check_(x,y):\n",
    "    if neg_(and_(x,y)) == or_(neg_(x),neg_(y)):\n",
    "        return 1\n",
    "    else:\n",
    "        return 0\n",
    "\n",
    "print('¬(0∧0) ⟺ (¬0)∨(¬0):', check_(0,0))\n",
    "print('¬(0∧1) ⟺ (¬0)∨(¬1):', check_(0,1))\n",
    "print('¬(1∧0) ⟺ (¬1)∨(¬0):', check_(1,0))\n",
    "print('¬(1∧1) ⟺ (¬1)∨(¬1):', check_(1,1))"
   ]
  },
  {
   "cell_type": "markdown",
   "id": "4a670de0",
   "metadata": {},
   "source": [
    "This is something called De Morgan's Law. If you continue mathematics it will come up a bunch. In fact, we will prove the set theory version later at some point. It's not the only rule we can use though. Many of the following tricks will make our lives easier. In fact, we can use these to drop the table notation all together, and just use the logic behind the rules. Let $A$, $B$, and $C$ be logical variables. You should try \"proving\" these on truth tables of your own:\n",
    "\n",
    "$\\hphantom{abcdef}\\hphantom{abcdef}\\text{COMMUTATIVITY}$\n",
    "\n",
    "$\\hphantom{abcdef}\\bullet A\\lor B = B\\lor A$\n",
    "\n",
    "$\\hphantom{abcdef}\\bullet A\\land B = B\\land A$\n",
    "\n",
    "$\\hphantom{abcdef}\\hphantom{abcdef}\\text{IDENTITY}$\n",
    "\n",
    "$\\hphantom{abcdef}\\bullet A\\lor A = A$\n",
    "\n",
    "$\\hphantom{abcdef}\\bullet A\\land A = A$\n",
    "\n",
    "$\\hphantom{abcdef}\\bullet A\\lor F = A$\n",
    "\n",
    "$\\hphantom{abcdef}\\bullet A\\lor T = T$\n",
    "\n",
    "$\\hphantom{abcdef}\\bullet A\\land T = A$\n",
    "\n",
    "$\\hphantom{abcdef}\\bullet A\\land F = F$\n",
    "\n",
    "$\\hphantom{abcdef}\\hphantom{abcdef}\\text{COMPLEMENT}$\n",
    "\n",
    "$\\hphantom{abcdef}\\bullet \\neg T = F$\n",
    "\n",
    "$\\hphantom{abcdef}\\bullet \\neg F = T$\n",
    "\n",
    "$\\hphantom{abcdef}\\bullet \\neg (\\neg A) = A$\n",
    "\n",
    "$\\hphantom{abcdef}\\bullet A\\lor (\\neg A) = T$\n",
    "\n",
    "$\\hphantom{abcdef}\\bullet A\\land (\\neg A) = F$\n",
    "\n",
    "$\\hphantom{abcdef}\\hphantom{abcdef}\\text{DE MORGAN'S}$\n",
    "\n",
    "$\\hphantom{abcdef}\\bullet \\neg(A\\land B)=(\\neg A)\\lor (\\neg B)$\n",
    "\n",
    "$\\hphantom{abcdef}\\bullet \\neg(A\\lor B)=(\\neg A)\\land (\\neg B)$\n",
    "\n",
    "$\\hphantom{abcdef}\\hphantom{abcdef}\\text{ASSOCIATIVITY}$\n",
    "\n",
    "$\\hphantom{abcdef}\\bullet (A\\lor B)\\lor C = A\\lor (B\\lor C)$\n",
    "\n",
    "$\\hphantom{abcdef}\\bullet (A\\land B)\\land C = A\\land (B\\land C)$\n",
    "\n",
    "$\\hphantom{abcdef}\\hphantom{abcdef}\\text{DISTRIBUTIVITY}$\n",
    "\n",
    "$\\hphantom{abcdef}\\bullet A\\lor(B\\land C)=(A\\lor B)\\land(A\\lor C)$\n",
    "\n",
    "$\\hphantom{abcdef}\\bullet A\\land(B\\lor C)=(A\\land B)\\lor(A\\land C)$\n",
    "\n",
    "$\\hphantom{abcdef}\\hphantom{abcdef}\\text{ABSORPTION}$\n",
    "\n",
    "$\\hphantom{abcdef}\\bullet A\\lor(A\\land B)=A$\n",
    "\n",
    "$\\hphantom{abcdef}\\bullet A\\land(A\\lor B)=A$\n",
    "\n",
    "Okay. After you've successfully proven all of them on truth tables, let's go back to our pin. Remember our $\\textbf{contrapositive}$? Well our truth table isn't the only way to prove it. Using the above definitions we can do $algebra$ on truth values.\n",
    "\n",
    "$\\textit{It turns out there is an equivalence between boolean algebra, propositional logic algebra, and set theory algebra}$.\n",
    "\n",
    "It's a really important concept we will discuss later.\n",
    "\n",
    "Alright...let's do this thing!\n",
    "\n",
    "Start with our initial statement, and where we see blue we will substitute in on the next line for one of our statements above. Since we're going to use a lot of negations as well, let's just call $\\neg X = X'$ to make our lives easier.\n",
    "\n",
    "Okay, let's substitute in our logical equivalence $\\big(X\\iff Y\\big)=\\big((X\\implies Y)\\land (Y\\implies X)\\big)$:\n",
    "\n",
    "$$\\color{blue}{A\\iff B}\\color{black}{}\\color{red}{\\hookrightarrow}\\color{black}{}(A\\implies B)\\land(B\\implies A)$$\n",
    "\n",
    "Substitute in another logical equivalence $\\big(X\\implies Y\\big)= \\big(X'\\lor Y\\big)$:\n",
    "\n",
    "$$\\color{blue}{(A\\implies B)}\\color{black}{}\\land \\color{blue}{(B\\implies A)}\\color{black}{}\\color{red}{\\hookrightarrow}\\color{black}{}(A'\\lor B)\\land (B'\\lor A)$$\n",
    "\n",
    "Using $\\textbf{commutivity}$ I will pivot around the $\\land$ and then within each pair of parentheses I will pivot around each $\\lor$:\n",
    "\n",
    "$$\\color{blue}{(A'\\lor B)}\\color{black}{}\\land \\color{blue}{(B'\\lor A)}\\color{black}{}\\color{red}{\\hookrightarrow}\\color{black}{}(A\\lor B')\\land(B\\lor A')$$\n",
    "\n",
    "Using $(X')'=X$:\n",
    "\n",
    "$$(\\color{blue}{A}\\color{black}{}\\lor B')\\land(\\color{blue}{B}\\color{black}{}\\lor A')\\color{red}{\\hookrightarrow}\\color{black}{}((A')'\\lor B')\\land((B')'\\lor A')$$\n",
    "\n",
    "We use our logical equivalence $\\big(X\\implies Y\\big)= \\big(X'\\lor Y\\big)$ once again:\n",
    "\n",
    "$$(\\color{blue}{(A')'\\lor B'}\\color{black}{})\\land(\\color{blue}{(B')'\\lor A'}\\color{black}{})\\color{red}{\\hookrightarrow}\\color{black}{}(A'\\implies B')\\land(B'\\implies A')$$\n",
    "\n",
    "\n",
    "From here the last maneuver is pretty obvious as it mirrors our first, just backwards:\n",
    "\n",
    "$$\\color{blue}{(A'\\implies B')\\land(B'\\implies A')}\\color{black}{}\\color{red}{\\hookrightarrow}\\color{black}{}A'\\iff B'$$\n",
    "\n",
    "WOOHOOOO! We found our contrapositive!\n",
    "\n",
    "$$\\Bigg(A\\iff B\\Bigg)\\iff\\Bigg(A'\\iff B'\\Bigg)$$\n",
    "\n",
    "You may think \"big deal\", but I promise this idea will pay off at some point.\n",
    "\n",
    "But wait...more than that, what you just walked through was a $\\textbf{proof}$ that the contrapositive and biconditional are equivalent! We didn't even need a truth table!\n",
    "\n",
    "Let's walk through another one. Is the following $true$? Put another way, is this equivalent to $T$?\n",
    "\n",
    "$$\\bigg(\\big(T\\implies(A\\land B)\\big)\\land\\big((A\\lor B)\\implies T\\big)\\bigg)\\implies \\big((A\\lor B)\\implies(A\\land B)\\big)$$\n",
    "\n",
    "First we can check it with code. Rember, this is true if we get all $1$'s:"
   ]
  },
  {
   "cell_type": "code",
   "execution_count": null,
   "id": "bf221630",
   "metadata": {},
   "outputs": [],
   "source": [
    "def check_(x,y):\n",
    "    return imp_(and_(imp_(1,and_(x,y)),imp_(or_(x,y),1)),imp_( or_(x,y), and_(x,y)) )\n",
    "    \n",
    "print('((𝑇⟹(0∧0))∧((0∨0)⟹𝑇))⟹((0∨0)⟹(0∧0)):', check_(0,0))\n",
    "print('((𝑇⟹(0∧1))∧((0∨1)⟹𝑇))⟹((0∨1)⟹(0∧1)):', check_(0,1))\n",
    "print('((𝑇⟹(1∧0))∧((1∨0)⟹𝑇))⟹((1∨0)⟹(1∧0)):', check_(1,0))\n",
    "print('((𝑇⟹(1∧1))∧((1∨1)⟹𝑇))⟹((1∨1)⟹(1∧1)):', check_(1,1))"
   ]
  },
  {
   "cell_type": "markdown",
   "id": "96ea3318",
   "metadata": {},
   "source": [
    "How do we prove such a thing? Well, let's go slowly and focus on the left hand side first...\n",
    "\n",
    "Substitute in the logical equivalence $\\big(X\\implies Y\\big)= \\big(X'\\lor Y\\big)$ with the parts in $\\color{blue}{blue}\\color{black}{}$ to get:\n",
    "\n",
    "$$\\big(\\color{blue}{T\\implies(A\\land B)}\\color{black}{}\\big)\\land\\big(\\color{blue}{(A\\lor B)\\implies T}\\color{black}{}\\big)\\color{red}{\\hookrightarrow}\\color{black}{}\\big(T'\\lor(A\\land B)\\big)\\land\\big((A\\lor B)'\\lor T\\big)$$\n",
    "\n",
    "Notice by our rules that $T'=F$:\n",
    "\n",
    "$$\\big(\\color{blue}{T'}\\color{black}{}\\lor(A\\land B)\\big)\\land\\big((A\\lor B)'\\lor T\\big)\\color{red}{\\hookrightarrow}\\color{black}{}\\big(F\\lor(A\\land B)\\big)\\land\\big((A\\lor B)'\\lor T\\big)$$\n",
    "\n",
    "We also have a rule $X\\lor T =T$ so we can apply that as well as $X\\lor F=X$:\n",
    "\n",
    "$$\\big(\\color{blue}{F\\lor(A\\land B)}\\color{black}{}\\big)\\land\\big(\\color{blue}{(A\\lor B)'\\lor T}\\color{black}{}\\big)\\color{red}{\\hookrightarrow}\\color{black}{}(A\\land B)\\land T$$\n",
    "\n",
    "Of course $X\\land T= X$:\n",
    "\n",
    "$$\\color{blue}{(A\\land B)\\land T}\\color{black}{}\\color{red}{\\hookrightarrow}\\color{black}{}(A\\land B)$$\n",
    "\n",
    "We've collapsed this as much as possible, so let's sub it into the main equation:\n",
    "\n",
    "$$\\color{blue}{\\bigg(\\big(T\\implies(A\\land B)\\big)\\land\\big((A\\lor B)\\implies T\\big)\\bigg)}\\color{black}{}\\implies \\big((A\\lor B)\\implies(A\\land B)\\big)\\color{red}{\\hookrightarrow}\\color{black}{}(A\\land B)\\implies \\big((A\\lor B)\\implies(A\\land B)\\big)$$\n",
    "\n",
    "Let's use $X\\implies Y = X'\\lor Y$ inside the right side:\n",
    "\n",
    "$$(A\\land B)\\implies \\big(\\color{blue}{(A\\lor B)\\implies(A\\land B)}\\color{black}{}\\big)\\color{red}{\\hookrightarrow}\\color{black}{}(A\\land B)\\implies \\big((A\\lor B)'\\lor(A\\land B)\\big)$$\n",
    "\n",
    "Now we apply $X\\implies Y = X'\\lor Y$ to the whole thing:\n",
    "\n",
    "$$\\color{blue}{(A\\land B)\\implies \\big((A\\lor B)'\\lor(A\\land B)\\big)}\\color{black}{}\\color{red}{\\hookrightarrow}\\color{black}{}(A\\land B)'\\lor \\big((A\\lor B)'\\lor(A\\land B)\\big)$$\n",
    "\n",
    "Something we mentioned earlier will come to play a bit here right now. Remember it doesn't matter what order we do these operations between groups because they are all split by $\\lor$. This comes from $\\textbf{associativity}$. From this we can just look at the above as:\n",
    "\n",
    "$$(A\\land B)'\\lor \\color{blue}{\\big(}\\color{black}{}(A\\lor B)'\\lor(A\\land B)\\color{blue}{\\big)}\\color{black}{}\\color{red}{\\hookrightarrow}\\color{black}{}(A\\land B)'\\lor (A\\lor B)'\\lor(A\\land B)$$\n",
    "\n",
    "Let's move things around. We're allowed to swap elements by $\\textbf{commutativity}$:\n",
    "\n",
    "$$(A\\land B)'\\lor \\color{blue}{(A\\lor B)'}\\color{black}{}\\lor\\color{blue}{(A\\land B)}\\color{black}{}\\color{red}{\\hookrightarrow}\\color{black}{}(A\\land B)'\\lor(A\\land B)\\lor (A\\lor B)'$$\n",
    "\n",
    "Remember $X\\lor X'=T$ thus:\n",
    "\n",
    "$$\\color{blue}{(A\\land B)'\\lor(A\\land B)}\\color{black}{}\\lor (A\\lor B)'\\color{red}{\\hookrightarrow}\\color{black}{}T\\lor (A\\lor B)'$$\n",
    "\n",
    "Of course, $X\\lor T = T$ finishes off our proof:\n",
    "\n",
    "$$\\color{blue}{T\\lor (A\\lor B)'}\\color{black}{}\\color{red}{\\hookrightarrow}\\color{black}{}T$$\n",
    "\n",
    "Nice. This gives us:\n",
    "\n",
    "$$\\Bigg(\\bigg(\\big(T\\implies(A\\land B)\\big)\\land\\big((A\\lor B)\\implies T\\big)\\bigg)\\implies \\big((A\\lor B)\\implies(A\\land B)\\big)\\Bigg)\\iff\\Bigg(T\\Bigg)$$\n",
    "\n",
    "Come on. You know that was a little satisfying.\n",
    "\n",
    "One last thing we need to do...we're all tired, but let's pick a bunch of variables $A$, $B$, $C$, and $D$.\n",
    "\n",
    "Consider the following equation and note the $\\color{magenta}{\\lor}\\color{black}{}$ and terms in $\\color{teal}{teal}\\color{black}{}$:\n",
    "\n",
    "$$\\color{teal}{(A\\land B\\land C'\\land D)}\\color{black}{}\\color{magenta}{\\lor}\\color{black}{}\\color{teal}{(A'\\land B\\land C'\\land D)}\\color{black}{}\\color{magenta}{\\lor}\\color{black}{}\\color{teal}{(A'\\land B\\land C\\land D')}\\color{black}{}\\color{magenta}{\\lor}\\color{black}{}\\color{teal}{(A'\\land B'\\land C'\\land D')}\\color{black}{}$$\n",
    "\n",
    "We call this $\\textbf{disjunctive normal form}$ or $\\textbf{DNF}$. Basically we have a number of terms we can't shrink or maneuver anymore without going around in circles. If you're confused about what I mean, try reducing the above. Godspeed, haha. If you play around enough you can push it to its $\\textbf{conjunctive normal form}$ or $\\textbf{CNF}$. Here we put $\\color{teal}{\\land}\\color{black}{}$ and terms in $\\color{magenta}{magenta}\\color{black}{}$:\n",
    "\n",
    "$$\\color{magenta}{(A\\lor B\\lor C\\lor D)}\\color{black}{}\\color{teal}{\\land}\\color{black}{}\\color{magenta}{(A'\\lor B\\lor C\\lor D')}\\color{black}{}\\color{teal}{\\land}\\color{black}{}\\color{magenta}{(A'\\lor B'\\lor C'\\lor D')}\\color{black}{}$$\n",
    "\n",
    "I didn't reduce or other one though! That would've been a lot of work. I just picked a new random one. We will get to swapping between the forms soon.\n",
    "\n",
    "One thing I will say is that these have $\\textbf{unique canonical forms}$. So whatever form you manage to put them in, that form is unique to that logical statement. It doesn't have to be $4$ variables. It could be larger or even smaller; something as simple as $\\color{teal}{A}\\color{black}{}\\color{magenta}{\\lor}\\color{black}{} \\color{teal}{(B\\land C)}\\color{black}{}$ in $\\textbf{DNF}$ and $\\color{magenta}{C'}\\color{black}{}\\color{teal}{\\land}\\color{black}{} \\color{magenta}{D}\\color{black}{}$ in $\\textbf{CNF}$. Note that the second one could also be $\\textbf{DNF}$ as if you group it like $\\color{teal}{(C'\\land D)}\\color{black}{}$. There just isn't any other terms involved.\n",
    "\n",
    "Let's try one before we end for the day. Consider:\n",
    "\n",
    "$$(A\\land B)'\\lor\\big((C\\land D)'\\land D\\big)$$\n",
    "\n",
    "To reduce, we need to first get rid of the $\\neg$'s outside of grouped terms. They're fine around individual terms, but we have some to handle here. Let's use De Morgan's Laws:\n",
    "\n",
    "$$\\color{blue}{(A\\land B)'}\\color{black}{}\\lor\\big(\\color{blue}{(C\\land D)'}\\color{black}{}\\land D\\big)\\color{red}{\\hookrightarrow}\\color{black}{}(A'\\lor B')\\lor\\big((C'\\lor D')\\land D\\big)$$\n",
    "\n",
    "Next we can do two things, we can drop the parantheses around $(A'\\lor B')$ because of $\\textbf{associativity}$, and we can $\\textbf{distribute}$ $D$ in the other term across $\\land$:\n",
    "\n",
    "$$\\color{blue}{(}\\color{black}{}A'\\lor B'\\color{blue}{)}\\color{black}{}\\lor\\big(\\color{blue}{(C'\\lor D')\\land D}\\color{black}{}\\big)\\color{red}{\\hookrightarrow}\\color{black}{}A'\\lor B'\\lor\\big((C'\\land D)\\lor(D'\\land D)\\big)$$\n",
    "\n",
    "Again we can drop the parantheses around the rightward terms because of $\\textbf{associativity}$. Remember we also have a rule that $X\\land X'=F$:\n",
    "\n",
    "$$A'\\lor B'\\lor\\color{blue}{\\big(}\\color{black}{}(C'\\land D)\\lor\\color{blue}{(D'\\land D)\\big)}\\color{black}{}\\color{red}{\\hookrightarrow}\\color{black}{}A'\\lor B'\\lor (C'\\land D)\\lor F$$\n",
    "\n",
    "Since $X\\lor F=X$ is one our rules, we can treat our grouping as $\\big(A'\\lor B'\\lor (C'\\land D)\\big)\\lor F$ to get:\n",
    "\n",
    "$$\\color{blue}{\\big(A'\\lor B'\\lor (C'\\land D)\\big)\\lor F}\\color{black}{}\\color{red}{\\hookrightarrow}\\color{black}{}A'\\lor B'\\lor(C'\\land D)$$\n",
    "\n",
    "And there we have it! $\\textbf{DNF}$!\n",
    "\n",
    "$$\\color{teal}{A'}\\color{black}{}\\color{magenta}{\\lor}\\color{black}{} \\color{teal}{B'}\\color{black}{}\\color{magenta}{\\lor}\\color{black}{}\\color{teal}{(C'\\land D)}\\color{black}{}$$\n",
    "\n",
    "Now, let's group $(A'\\lor B')$ and we're going to $\\textbf{distribute}$ the whole thing into the other term to break up the $\\land$ using $X\\lor(Y\\land Z)=(X\\lor Y)\\land (X\\lor Z)$:\n",
    "\n",
    "$$\\color{blue}{(A'\\lor B')\\lor(C'\\land D)}\\color{black}{}\\color{red}{\\hookrightarrow}(A'\\lor B'\\lor C')\\land (A'\\lor B'\\lor D)$$\n",
    "\n",
    "That's as far as we can go though. Notice that $\\textbf{CNF}$ has emerged:\n",
    "\n",
    "$$\\color{magenta}{(A'\\lor B'\\lor C')}\\color{black}{}\\color{teal}{\\land}\\color{black}{} \\color{magenta}{(A'\\lor B'\\lor D)}\\color{black}{}$$\n",
    "\n",
    "FINAL THING! I promise! Let's check that these two forms are equivalent to our original:"
   ]
  },
  {
   "cell_type": "code",
   "execution_count": null,
   "id": "0ac9a1a8",
   "metadata": {},
   "outputs": [],
   "source": [
    "def check_(x,y,z,w):\n",
    "    og = or_(neg_(and_(x,y)),and_(neg_(and_(z,w)),w))\n",
    "    dnf = or_(or_(neg_(x),neg_(y)),and_(neg_(z),w))\n",
    "    cnf = and_(or_(or_(neg_(x),neg_(y)),neg_(z)),or_(or_(neg_(x),neg_(y)),w))\n",
    "    if cnf == dnf == og: return 1\n",
    "    else: return 0\n",
    "\n",
    "print('(¬(𝐴∧𝐵))∨((¬(𝐶∧𝐷))∧𝐷) ⟺   (¬𝐴)∨(¬𝐵)∨((¬C)∧𝐷) ⟺ ((¬𝐴)∨(¬𝐵)∨(¬C))∧((¬𝐴)∨(¬𝐵)∨𝐷)')\n",
    "print('', check_(0,0,0,0))\n",
    "print('', check_(0,0,0,1))\n",
    "print('', check_(0,0,1,0))\n",
    "print('', check_(0,0,1,1))\n",
    "print('', check_(0,1,0,0))\n",
    "print('', check_(0,1,0,1))\n",
    "print('', check_(0,1,1,0))\n",
    "print('', check_(0,1,1,1))\n",
    "print('', check_(1,0,0,0))\n",
    "print('', check_(1,0,0,1))\n",
    "print('', check_(1,0,1,0))\n",
    "print('', check_(1,0,1,1))\n",
    "print('', check_(1,1,0,0))\n",
    "print('', check_(1,1,0,1))\n",
    "print('', check_(1,1,1,0))\n",
    "print('', check_(1,1,1,1))"
   ]
  },
  {
   "cell_type": "markdown",
   "id": "5589752e",
   "metadata": {},
   "source": [
    "This $\\textbf{tautology}$ means they're all equivalent as we suspected.\n",
    "\n",
    "$$\\Bigg((A\\land B)'\\lor\\big((C\\land D)'\\land D\\big)\\Bigg)\\iff\\Bigg(A'\\lor B'\\lor(C'\\land D)\\Bigg)\\iff\\Bigg((A'\\lor B'\\lor C')\\land (A'\\lor B'\\lor D)\\Bigg)$$\n",
    "\n",
    "Okay...I release you. Go relax. Take some time later. This was a chunk of material. Practice these ideas, and I'll see you next time!"
   ]
  },
  {
   "cell_type": "code",
   "execution_count": null,
   "id": "63f8c7e5",
   "metadata": {},
   "outputs": [],
   "source": []
  }
 ],
 "metadata": {
  "kernelspec": {
   "display_name": "Python 3",
   "language": "python",
   "name": "python3"
  },
  "language_info": {
   "codemirror_mode": {
    "name": "ipython",
    "version": 3
   },
   "file_extension": ".py",
   "mimetype": "text/x-python",
   "name": "python",
   "nbconvert_exporter": "python",
   "pygments_lexer": "ipython3",
   "version": "3.8.8"
  }
 },
 "nbformat": 4,
 "nbformat_minor": 5
}
